{
  "nbformat": 4,
  "nbformat_minor": 0,
  "metadata": {
    "colab": {
      "provenance": []
    },
    "kernelspec": {
      "name": "python3",
      "display_name": "Python 3"
    },
    "language_info": {
      "name": "python"
    }
  },
  "cells": [
    {
      "cell_type": "code",
      "execution_count": 1,
      "metadata": {
        "colab": {
          "base_uri": "https://localhost:8080/"
        },
        "id": "jNOFW_fTunEQ",
        "outputId": "97a4483a-e583-43bb-e507-4e87fdc8b21e"
      },
      "outputs": [
        {
          "output_type": "stream",
          "name": "stdout",
          "text": [
            "Collecting streamlit\n",
            "  Downloading streamlit-1.40.1-py2.py3-none-any.whl.metadata (8.5 kB)\n",
            "Requirement already satisfied: altair<6,>=4.0 in /usr/local/lib/python3.10/dist-packages (from streamlit) (4.2.2)\n",
            "Requirement already satisfied: blinker<2,>=1.0.0 in /usr/local/lib/python3.10/dist-packages (from streamlit) (1.9.0)\n",
            "Requirement already satisfied: cachetools<6,>=4.0 in /usr/local/lib/python3.10/dist-packages (from streamlit) (5.5.0)\n",
            "Requirement already satisfied: click<9,>=7.0 in /usr/local/lib/python3.10/dist-packages (from streamlit) (8.1.7)\n",
            "Requirement already satisfied: numpy<3,>=1.20 in /usr/local/lib/python3.10/dist-packages (from streamlit) (1.26.4)\n",
            "Requirement already satisfied: packaging<25,>=20 in /usr/local/lib/python3.10/dist-packages (from streamlit) (24.2)\n",
            "Requirement already satisfied: pandas<3,>=1.4.0 in /usr/local/lib/python3.10/dist-packages (from streamlit) (2.2.2)\n",
            "Requirement already satisfied: pillow<12,>=7.1.0 in /usr/local/lib/python3.10/dist-packages (from streamlit) (11.0.0)\n",
            "Requirement already satisfied: protobuf<6,>=3.20 in /usr/local/lib/python3.10/dist-packages (from streamlit) (4.25.5)\n",
            "Requirement already satisfied: pyarrow>=7.0 in /usr/local/lib/python3.10/dist-packages (from streamlit) (17.0.0)\n",
            "Requirement already satisfied: requests<3,>=2.27 in /usr/local/lib/python3.10/dist-packages (from streamlit) (2.32.3)\n",
            "Requirement already satisfied: rich<14,>=10.14.0 in /usr/local/lib/python3.10/dist-packages (from streamlit) (13.9.4)\n",
            "Requirement already satisfied: tenacity<10,>=8.1.0 in /usr/local/lib/python3.10/dist-packages (from streamlit) (9.0.0)\n",
            "Requirement already satisfied: toml<2,>=0.10.1 in /usr/local/lib/python3.10/dist-packages (from streamlit) (0.10.2)\n",
            "Requirement already satisfied: typing-extensions<5,>=4.3.0 in /usr/local/lib/python3.10/dist-packages (from streamlit) (4.12.2)\n",
            "Requirement already satisfied: gitpython!=3.1.19,<4,>=3.0.7 in /usr/local/lib/python3.10/dist-packages (from streamlit) (3.1.43)\n",
            "Collecting pydeck<1,>=0.8.0b4 (from streamlit)\n",
            "  Downloading pydeck-0.9.1-py2.py3-none-any.whl.metadata (4.1 kB)\n",
            "Requirement already satisfied: tornado<7,>=6.0.3 in /usr/local/lib/python3.10/dist-packages (from streamlit) (6.3.3)\n",
            "Collecting watchdog<7,>=2.1.5 (from streamlit)\n",
            "  Downloading watchdog-6.0.0-py3-none-manylinux2014_x86_64.whl.metadata (44 kB)\n",
            "\u001b[2K     \u001b[90m━━━━━━━━━━━━━━━━━━━━━━━━━━━━━━━━━━━━━━━━\u001b[0m \u001b[32m44.3/44.3 kB\u001b[0m \u001b[31m1.4 MB/s\u001b[0m eta \u001b[36m0:00:00\u001b[0m\n",
            "\u001b[?25hRequirement already satisfied: entrypoints in /usr/local/lib/python3.10/dist-packages (from altair<6,>=4.0->streamlit) (0.4)\n",
            "Requirement already satisfied: jinja2 in /usr/local/lib/python3.10/dist-packages (from altair<6,>=4.0->streamlit) (3.1.4)\n",
            "Requirement already satisfied: jsonschema>=3.0 in /usr/local/lib/python3.10/dist-packages (from altair<6,>=4.0->streamlit) (4.23.0)\n",
            "Requirement already satisfied: toolz in /usr/local/lib/python3.10/dist-packages (from altair<6,>=4.0->streamlit) (0.12.1)\n",
            "Requirement already satisfied: gitdb<5,>=4.0.1 in /usr/local/lib/python3.10/dist-packages (from gitpython!=3.1.19,<4,>=3.0.7->streamlit) (4.0.11)\n",
            "Requirement already satisfied: python-dateutil>=2.8.2 in /usr/local/lib/python3.10/dist-packages (from pandas<3,>=1.4.0->streamlit) (2.8.2)\n",
            "Requirement already satisfied: pytz>=2020.1 in /usr/local/lib/python3.10/dist-packages (from pandas<3,>=1.4.0->streamlit) (2024.2)\n",
            "Requirement already satisfied: tzdata>=2022.7 in /usr/local/lib/python3.10/dist-packages (from pandas<3,>=1.4.0->streamlit) (2024.2)\n",
            "Requirement already satisfied: charset-normalizer<4,>=2 in /usr/local/lib/python3.10/dist-packages (from requests<3,>=2.27->streamlit) (3.4.0)\n",
            "Requirement already satisfied: idna<4,>=2.5 in /usr/local/lib/python3.10/dist-packages (from requests<3,>=2.27->streamlit) (3.10)\n",
            "Requirement already satisfied: urllib3<3,>=1.21.1 in /usr/local/lib/python3.10/dist-packages (from requests<3,>=2.27->streamlit) (2.2.3)\n",
            "Requirement already satisfied: certifi>=2017.4.17 in /usr/local/lib/python3.10/dist-packages (from requests<3,>=2.27->streamlit) (2024.8.30)\n",
            "Requirement already satisfied: markdown-it-py>=2.2.0 in /usr/local/lib/python3.10/dist-packages (from rich<14,>=10.14.0->streamlit) (3.0.0)\n",
            "Requirement already satisfied: pygments<3.0.0,>=2.13.0 in /usr/local/lib/python3.10/dist-packages (from rich<14,>=10.14.0->streamlit) (2.18.0)\n",
            "Requirement already satisfied: smmap<6,>=3.0.1 in /usr/local/lib/python3.10/dist-packages (from gitdb<5,>=4.0.1->gitpython!=3.1.19,<4,>=3.0.7->streamlit) (5.0.1)\n",
            "Requirement already satisfied: MarkupSafe>=2.0 in /usr/local/lib/python3.10/dist-packages (from jinja2->altair<6,>=4.0->streamlit) (3.0.2)\n",
            "Requirement already satisfied: attrs>=22.2.0 in /usr/local/lib/python3.10/dist-packages (from jsonschema>=3.0->altair<6,>=4.0->streamlit) (24.2.0)\n",
            "Requirement already satisfied: jsonschema-specifications>=2023.03.6 in /usr/local/lib/python3.10/dist-packages (from jsonschema>=3.0->altair<6,>=4.0->streamlit) (2024.10.1)\n",
            "Requirement already satisfied: referencing>=0.28.4 in /usr/local/lib/python3.10/dist-packages (from jsonschema>=3.0->altair<6,>=4.0->streamlit) (0.35.1)\n",
            "Requirement already satisfied: rpds-py>=0.7.1 in /usr/local/lib/python3.10/dist-packages (from jsonschema>=3.0->altair<6,>=4.0->streamlit) (0.21.0)\n",
            "Requirement already satisfied: mdurl~=0.1 in /usr/local/lib/python3.10/dist-packages (from markdown-it-py>=2.2.0->rich<14,>=10.14.0->streamlit) (0.1.2)\n",
            "Requirement already satisfied: six>=1.5 in /usr/local/lib/python3.10/dist-packages (from python-dateutil>=2.8.2->pandas<3,>=1.4.0->streamlit) (1.16.0)\n",
            "Downloading streamlit-1.40.1-py2.py3-none-any.whl (8.6 MB)\n",
            "\u001b[2K   \u001b[90m━━━━━━━━━━━━━━━━━━━━━━━━━━━━━━━━━━━━━━━━\u001b[0m \u001b[32m8.6/8.6 MB\u001b[0m \u001b[31m27.6 MB/s\u001b[0m eta \u001b[36m0:00:00\u001b[0m\n",
            "\u001b[?25hDownloading pydeck-0.9.1-py2.py3-none-any.whl (6.9 MB)\n",
            "\u001b[2K   \u001b[90m━━━━━━━━━━━━━━━━━━━━━━━━━━━━━━━━━━━━━━━━\u001b[0m \u001b[32m6.9/6.9 MB\u001b[0m \u001b[31m31.0 MB/s\u001b[0m eta \u001b[36m0:00:00\u001b[0m\n",
            "\u001b[?25hDownloading watchdog-6.0.0-py3-none-manylinux2014_x86_64.whl (79 kB)\n",
            "\u001b[2K   \u001b[90m━━━━━━━━━━━━━━━━━━━━━━━━━━━━━━━━━━━━━━━━\u001b[0m \u001b[32m79.1/79.1 kB\u001b[0m \u001b[31m4.1 MB/s\u001b[0m eta \u001b[36m0:00:00\u001b[0m\n",
            "\u001b[?25hInstalling collected packages: watchdog, pydeck, streamlit\n",
            "Successfully installed pydeck-0.9.1 streamlit-1.40.1 watchdog-6.0.0\n"
          ]
        }
      ],
      "source": [
        "!pip install streamlit"
      ]
    },
    {
      "cell_type": "code",
      "source": [
        "import sqlite3\n",
        "print(sqlite3.version)\n"
      ],
      "metadata": {
        "colab": {
          "base_uri": "https://localhost:8080/"
        },
        "id": "6ZgZTv1nuxqI",
        "outputId": "3e0d91b0-d737-4523-aa7b-9c2a78a63b26"
      },
      "execution_count": 2,
      "outputs": [
        {
          "output_type": "stream",
          "name": "stdout",
          "text": [
            "2.6.0\n"
          ]
        }
      ]
    },
    {
      "cell_type": "code",
      "source": [
        "!pip install pandas twilio pyngrok\n"
      ],
      "metadata": {
        "colab": {
          "base_uri": "https://localhost:8080/"
        },
        "id": "SRDld1Tru0vs",
        "outputId": "9426d6a8-aba7-469a-9386-043b17fdc505"
      },
      "execution_count": 4,
      "outputs": [
        {
          "output_type": "stream",
          "name": "stdout",
          "text": [
            "Requirement already satisfied: pandas in /usr/local/lib/python3.10/dist-packages (2.2.2)\n",
            "Requirement already satisfied: twilio in /usr/local/lib/python3.10/dist-packages (9.3.7)\n",
            "Requirement already satisfied: pyngrok in /usr/local/lib/python3.10/dist-packages (7.2.1)\n",
            "Requirement already satisfied: numpy>=1.22.4 in /usr/local/lib/python3.10/dist-packages (from pandas) (1.26.4)\n",
            "Requirement already satisfied: python-dateutil>=2.8.2 in /usr/local/lib/python3.10/dist-packages (from pandas) (2.8.2)\n",
            "Requirement already satisfied: pytz>=2020.1 in /usr/local/lib/python3.10/dist-packages (from pandas) (2024.2)\n",
            "Requirement already satisfied: tzdata>=2022.7 in /usr/local/lib/python3.10/dist-packages (from pandas) (2024.2)\n",
            "Requirement already satisfied: requests>=2.0.0 in /usr/local/lib/python3.10/dist-packages (from twilio) (2.32.3)\n",
            "Requirement already satisfied: PyJWT<3.0.0,>=2.0.0 in /usr/local/lib/python3.10/dist-packages (from twilio) (2.9.0)\n",
            "Requirement already satisfied: aiohttp>=3.8.4 in /usr/local/lib/python3.10/dist-packages (from twilio) (3.11.1)\n",
            "Requirement already satisfied: aiohttp-retry==2.8.3 in /usr/local/lib/python3.10/dist-packages (from twilio) (2.8.3)\n",
            "Requirement already satisfied: PyYAML>=5.1 in /usr/local/lib/python3.10/dist-packages (from pyngrok) (6.0.2)\n",
            "Requirement already satisfied: aiohappyeyeballs>=2.3.0 in /usr/local/lib/python3.10/dist-packages (from aiohttp>=3.8.4->twilio) (2.4.3)\n",
            "Requirement already satisfied: aiosignal>=1.1.2 in /usr/local/lib/python3.10/dist-packages (from aiohttp>=3.8.4->twilio) (1.3.1)\n",
            "Requirement already satisfied: attrs>=17.3.0 in /usr/local/lib/python3.10/dist-packages (from aiohttp>=3.8.4->twilio) (24.2.0)\n",
            "Requirement already satisfied: frozenlist>=1.1.1 in /usr/local/lib/python3.10/dist-packages (from aiohttp>=3.8.4->twilio) (1.5.0)\n",
            "Requirement already satisfied: multidict<7.0,>=4.5 in /usr/local/lib/python3.10/dist-packages (from aiohttp>=3.8.4->twilio) (6.1.0)\n",
            "Requirement already satisfied: propcache>=0.2.0 in /usr/local/lib/python3.10/dist-packages (from aiohttp>=3.8.4->twilio) (0.2.0)\n",
            "Requirement already satisfied: yarl<2.0,>=1.17.0 in /usr/local/lib/python3.10/dist-packages (from aiohttp>=3.8.4->twilio) (1.17.1)\n",
            "Requirement already satisfied: async-timeout<6.0,>=4.0 in /usr/local/lib/python3.10/dist-packages (from aiohttp>=3.8.4->twilio) (4.0.3)\n",
            "Requirement already satisfied: six>=1.5 in /usr/local/lib/python3.10/dist-packages (from python-dateutil>=2.8.2->pandas) (1.16.0)\n",
            "Requirement already satisfied: charset-normalizer<4,>=2 in /usr/local/lib/python3.10/dist-packages (from requests>=2.0.0->twilio) (3.4.0)\n",
            "Requirement already satisfied: idna<4,>=2.5 in /usr/local/lib/python3.10/dist-packages (from requests>=2.0.0->twilio) (3.10)\n",
            "Requirement already satisfied: urllib3<3,>=1.21.1 in /usr/local/lib/python3.10/dist-packages (from requests>=2.0.0->twilio) (2.2.3)\n",
            "Requirement already satisfied: certifi>=2017.4.17 in /usr/local/lib/python3.10/dist-packages (from requests>=2.0.0->twilio) (2024.8.30)\n",
            "Requirement already satisfied: typing-extensions>=4.1.0 in /usr/local/lib/python3.10/dist-packages (from multidict<7.0,>=4.5->aiohttp>=3.8.4->twilio) (4.12.2)\n"
          ]
        }
      ]
    },
    {
      "cell_type": "code",
      "source": [
        "import streamlit as st\n",
        "import sqlite3\n",
        "import pandas as pd\n",
        "from datetime import datetime\n",
        "from twilio.rest import Client\n",
        "\n",
        "# Twilio Credentials\n",
        "TWILIO_ACCOUNT_SID = \"AC3d0179d31bda1e4dde5e4eaa9de9edea\"\n",
        "TWILIO_AUTH_TOKEN = \"3c613bee5dee896ea708f5170c5b744c\"\n",
        "TWILIO_PHONE_NUMBER = \"+15865018392\"\n",
        "recipient_phone_number = \"+919153831641\"\n",
        "\n",
        "def send_sms(message):\n",
        "    try:\n",
        "        client = Client(TWILIO_ACCOUNT_SID, TWILIO_AUTH_TOKEN)\n",
        "        message = client.messages.create(\n",
        "            to=recipient_phone_number,\n",
        "            from_=TWILIO_PHONE_NUMBER,\n",
        "            body=message\n",
        "        )\n",
        "        print(f\"SMS sent successfully: {message.sid}\")\n",
        "    except Exception as e:\n",
        "        print(f\"Failed to send SMS: {e}\")\n",
        "\n",
        "send_sms(\"Test message\")"
      ],
      "metadata": {
        "colab": {
          "base_uri": "https://localhost:8080/"
        },
        "id": "4MZ_27mqu_ns",
        "outputId": "31eebdbc-e918-4a38-822c-85f14ee44096"
      },
      "execution_count": 13,
      "outputs": [
        {
          "output_type": "stream",
          "name": "stdout",
          "text": [
            "SMS sent successfully: SMe7c4339abe9108dbed39c28f96e03e59\n"
          ]
        }
      ]
    },
    {
      "cell_type": "code",
      "source": [
        "# SQLite database connection\n",
        "conn = sqlite3.connect(\"compliance_tracker.db\")\n",
        "cursor = conn.cursor()\n",
        "\n",
        "\n",
        "cursor.execute('''\n",
        "    CREATE TABLE IF NOT EXISTS milestones (\n",
        "        id INTEGER PRIMARY KEY AUTOINCREMENT,\n",
        "        title TEXT NOT NULL,\n",
        "        status TEXT DEFAULT 'Pending',\n",
        "        due_date DATE NOT NULL\n",
        "    )\n",
        "''')\n",
        "conn.commit()\n",
        "\n",
        "# Twilio setup\n",
        "client = Client(TWILIO_ACCOUNT_SID, TWILIO_AUTH_TOKEN)\n",
        "\n",
        "\n",
        "def send_sms(message):\n",
        "    try:\n",
        "        client.messages.create(\n",
        "            body=message,\n",
        "            from_=TWILIO_PHONE_NUMBER,\n",
        "            to=recipient_phone_number\n",
        "        )\n",
        "        st.success(\"SMS sent successfully!\")\n",
        "    except Exception as e:\n",
        "        st.error(f\"Failed to send SMS: {e}\")\n"
      ],
      "metadata": {
        "id": "vFVnqcn0vD2x"
      },
      "execution_count": 36,
      "outputs": []
    },
    {
      "cell_type": "code",
      "source": [],
      "metadata": {
        "id": "fvcwfo5zvIXx"
      },
      "execution_count": 7,
      "outputs": []
    },
    {
      "cell_type": "code",
      "source": [
        "# Save the Streamlit app code to a file\n",
        "app_code = \"\"\"\n",
        "import streamlit as st\n",
        "import pandas as pd\n",
        "import sqlite3\n",
        "from twilio.rest import Client\n",
        "from datetime import datetime, timedelta\n",
        "\n",
        "# SQLite database connection\n",
        "conn = sqlite3.connect('/content/compliance_tracker.db')\n",
        "cursor = conn.cursor()\n",
        "\n",
        "# Twilio Credentials (Use your own credentials)\n",
        "TWILIO_ACCOUNT_SID = \"AC3d0179d31bda1e4dde5e4eaa9de9edea\"  # Replace with your Twilio SID\n",
        "TWILIO_AUTH_TOKEN = \"3c613bee5dee896ea708f5170c5b744c\"  # Replace with your Twilio Auth Token\n",
        "TWILIO_PHONE_NUMBER = \"+15865018392\"  # Replace with your Twilio phone number\n",
        "recipient_phone_number = \"+919153831641\"  # Replace with the recipient's phone number\n",
        "\n",
        "client = Client(TWILIO_ACCOUNT_SID, TWILIO_AUTH_TOKEN)\n",
        "\n",
        "# Function to send SMS\n",
        "def send_sms(message):\n",
        "    try:\n",
        "        client.messages.create(\n",
        "            body=message,\n",
        "            from_=TWILIO_PHONE_NUMBER,\n",
        "            to=recipient_phone_number\n",
        "        )\n",
        "        st.success(\"SMS sent successfully!\")\n",
        "    except Exception as e:\n",
        "        st.error(f\"Failed to send SMS: {e}\")\n",
        "\n",
        "# Simple authentication credentials\n",
        "USERNAME = \"admin\"  # Change to your desired username\n",
        "PASSWORD = \"123\"  # Change to your desired password\n",
        "\n",
        "# Function to check the credentials\n",
        "def check_credentials(username, password):\n",
        "    return username == USERNAME and password == PASSWORD\n",
        "\n",
        "# Authentication form\n",
        "def authenticate():\n",
        "    st.sidebar.title(\"Login\")\n",
        "    username = st.sidebar.text_input(\"Username\")\n",
        "    password = st.sidebar.text_input(\"Password\", type=\"password\")\n",
        "\n",
        "    if st.sidebar.button(\"Login\"):\n",
        "        if check_credentials(username, password):\n",
        "            st.session_state.logged_in = True\n",
        "            st.sidebar.success(\"Login successful!\")\n",
        "        else:\n",
        "            st.session_state.logged_in = False\n",
        "            st.sidebar.error(\"Invalid credentials, please try again.\")\n",
        "\n",
        "# Function to calculate compliance score\n",
        "def calculate_compliance_score():\n",
        "    # This is a simple scoring system, you can customize it\n",
        "    milestones = pd.read_sql_query(\"SELECT * FROM milestones\", conn)\n",
        "    total_milestones = len(milestones)\n",
        "    completed_milestones = len([m for m in milestones['status'] if m == \"Completed\"])\n",
        "\n",
        "    # Compliance score is percentage of completed milestones\n",
        "    score = (completed_milestones / total_milestones) * 100 if total_milestones > 0 else 0\n",
        "    return score\n",
        "\n",
        "# Function to check for overdue milestones\n",
        "def check_overdue_milestones():\n",
        "    milestones = pd.read_sql_query(\"SELECT * FROM milestones\", conn)\n",
        "    overdue_milestones = []\n",
        "    current_date = datetime.now().date()\n",
        "\n",
        "    for milestone in milestones.itertuples():\n",
        "        due_date = datetime.strptime(milestone.due_date, \"%Y-%m-%d\").date()\n",
        "        if due_date < current_date and milestone.status != \"Completed\":\n",
        "            overdue_milestones.append(milestone)\n",
        "\n",
        "    return overdue_milestones\n",
        "\n",
        "def get_upcoming_milestones():\n",
        "    milestones = pd.read_sql_query(\"SELECT * FROM milestones\", conn)\n",
        "    upcoming_milestones = []\n",
        "    current_date = datetime.now().date()\n",
        "\n",
        "    for milestone in milestones.itertuples():\n",
        "        due_date = datetime.strptime(milestone.due_date, \"%Y-%m-%d\").date()\n",
        "        if current_date <= due_date <= (current_date + timedelta(days=7)) and milestone.status != \"Completed\":\n",
        "            upcoming_milestones.append(milestone)\n",
        "\n",
        "    return upcoming_milestones\n",
        "\n",
        "\n",
        "\n",
        "# Function to escalate non-compliant milestones\n",
        "def escalate_milestones():\n",
        "    overdue_milestones = check_overdue_milestones()\n",
        "    for milestone in overdue_milestones:\n",
        "        message = f\"Escalation Alert: Milestone '{milestone.title}' is overdue and non-compliant.\"\n",
        "        send_sms(message)\n",
        "\n",
        "# Dashboard for viewing milestones and updating status\n",
        "def dashboard():\n",
        "    st.title(\"Compliance Tracker Dashboard\")\n",
        "    milestones = pd.read_sql_query(\"SELECT * FROM milestones\", conn)\n",
        "    st.dataframe(milestones)\n",
        "\n",
        "    # Update Status Form\n",
        "    st.subheader(\"Update Milestone Status\")\n",
        "    milestone_id = st.number_input(\"Milestone ID\", min_value=1, step=1)\n",
        "    new_status = st.selectbox(\"New Status\", [\"Pending\", \"Completed\", \"Escalated\"])\n",
        "    if st.button(\"Update Status\"):\n",
        "        cursor.execute(\"UPDATE milestones SET status=? WHERE id=?\", (new_status, milestone_id))\n",
        "        conn.commit()\n",
        "        milestone = cursor.execute(\"SELECT title FROM milestones WHERE id=?\", (milestone_id,)).fetchone()\n",
        "        if milestone:\n",
        "            send_sms(f\"Milestone '{milestone[0]}' updated to '{new_status}'.\")\n",
        "        st.success(f\"Milestone {milestone_id} updated to {new_status}!\")\n",
        "\n",
        "    # Display compliance score\n",
        "    st.subheader(\"Compliance Score\")\n",
        "    score = calculate_compliance_score()\n",
        "    st.write(f\"Compliance Score: {score}%\")\n",
        "\n",
        "# Add New Milestone\n",
        "def add_milestone():\n",
        "    if \"logged_in\" not in st.session_state or not st.session_state.logged_in:\n",
        "        authenticate()  # Prompt for login if not logged in\n",
        "        return  # Stop the execution of add_milestone if not logged in\n",
        "\n",
        "    st.title(\"Add New Milestone\")\n",
        "    title = st.text_input(\"Milestone Title\")\n",
        "    due_date = st.date_input(\"Due Date\")\n",
        "    if st.button(\"Add Milestone\"):\n",
        "        cursor.execute(\"INSERT INTO milestones (title, due_date) VALUES (?, ?)\", (title, due_date))\n",
        "        conn.commit()\n",
        "        st.success(f\"Milestone '{title}' added successfully!\")\n",
        "\n",
        "# Send SMS Notifications\n",
        "def notifications():\n",
        "    if \"logged_in\" not in st.session_state or not st.session_state.logged_in:\n",
        "        authenticate()  # Prompt for login if not logged in\n",
        "        return  # Stop the execution of notifications if not logged in\n",
        "\n",
        "    st.title(\"Send SMS Notifications\")\n",
        "\n",
        "    # Fetch upcoming milestones from the database\n",
        "    upcoming_milestones = get_upcoming_milestones()\n",
        "    if not upcoming_milestones:\n",
        "        st.write(\"No upcoming milestones to notify!\")\n",
        "    else:\n",
        "        st.write(\"Upcoming Milestones for Notification:\")\n",
        "\n",
        "        # Convert the list of milestones into a DataFrame\n",
        "        upcoming_milestones_df = pd.DataFrame(upcoming_milestones, columns=['id', 'title', 'status', 'due_date', 'escalated'])\n",
        "        st.dataframe(upcoming_milestones_df)\n",
        "\n",
        "        # Send SMS for upcoming milestones\n",
        "        for _, milestone in upcoming_milestones_df.iterrows():\n",
        "            # Use the 'id' column to generate a unique key for each button\n",
        "            button_key = f\"send_sms_button_{milestone['id']}\"\n",
        "            if st.button(f\"Send SMS for '{milestone['title']}'\", key=button_key):\n",
        "                message = f\"Reminder: Milestone '{milestone['title']}' is due on {milestone['due_date']} and is currently '{milestone['status']}'.\"\n",
        "                send_sms(message)\n",
        "\n",
        "# Navigation\n",
        "def main():\n",
        "    st.sidebar.title(\"Navigation\")\n",
        "    menu = [\"Dashboard-user\", \"Add Milestone-admin\", \"Send SMS Notifications-admin\"]\n",
        "    choice = st.sidebar.radio(\"Go to\", menu)\n",
        "\n",
        "    if choice == \"Dashboard-user\":\n",
        "        dashboard()\n",
        "    elif choice == \"Add Milestone-admin\":\n",
        "        add_milestone()\n",
        "    elif choice == \"Send SMS Notifications-admin\":\n",
        "        notifications()\n",
        "\n",
        "if __name__ == \"__main__\":\n",
        "    main()\n",
        "\n",
        "\n",
        "\"\"\"\n",
        "\n",
        "# Save the code to a file\n",
        "with open('/content/compliance_tracker.py', 'w') as f:\n",
        "    f.write(app_code)\n",
        "\n",
        ""
      ],
      "metadata": {
        "id": "7_GKwCx3vIxh"
      },
      "execution_count": 59,
      "outputs": []
    },
    {
      "cell_type": "code",
      "source": [
        "!sudo tar -xvzf /content/ngrok-v3-stable-linux-amd64.tgz"
      ],
      "metadata": {
        "colab": {
          "base_uri": "https://localhost:8080/"
        },
        "id": "MPePRi8AvL3T",
        "outputId": "45d08ab3-84e7-4aaa-f934-e3de2033e03b"
      },
      "execution_count": 9,
      "outputs": [
        {
          "output_type": "stream",
          "name": "stdout",
          "text": [
            "ngrok\n"
          ]
        }
      ]
    },
    {
      "cell_type": "code",
      "source": [
        "!ngrok authtoken 2b2dbgzgUwpEFc6LV0p39tU1zJR_3sMRYo8mQp3KCYbxNYMh\n",
        "\n"
      ],
      "metadata": {
        "colab": {
          "base_uri": "https://localhost:8080/"
        },
        "id": "fZ7CCBXEv25R",
        "outputId": "94286540-a8e5-4a61-f817-d4b3789077aa"
      },
      "execution_count": 10,
      "outputs": [
        {
          "output_type": "stream",
          "name": "stdout",
          "text": [
            "Authtoken saved to configuration file: /root/.config/ngrok/ngrok.yml\n"
          ]
        }
      ]
    },
    {
      "cell_type": "code",
      "source": [
        "import subprocess\n",
        "from multiprocessing import Process\n",
        "\n",
        "# Function to run a command in a separate process and capture output\n",
        "def run_command(command):\n",
        "    process = subprocess.Popen(command, stdout=subprocess.PIPE, stderr=subprocess.PIPE)\n",
        "    stdout, stderr = process.communicate()\n",
        "    output = stdout.decode('utf-8') + stderr.decode('utf-8')\n",
        "    print(f\"Command: {command}\\nOutput: {output}\")\n",
        "    return output\n",
        "\n",
        "# Define the commands\n",
        "streamlit_command = ['streamlit', 'run', '/content/compliance_tracker.py']\n",
        "localtunnel_command = ['npx', 'localtunnel', '--port', '8501']\n",
        "ngrok_command = ['/content/ngrok', 'http', '8501']\n",
        "\n",
        "# Run each command in a separate process\n",
        "processes = [\n",
        "    Process(target=run_command, args=(streamlit_command,)),\n",
        "    Process(target=run_command, args=(localtunnel_command,)),\n",
        "    Process(target=run_command, args=(ngrok_command,))\n",
        "\n",
        "# Start all processes\n",
        "for process in processes:\n",
        "    process.start()\n",
        "\n",
        "# Wait for all processes to finish\n",
        "for process in processes:\n",
        "    process.join()\n"
      ],
      "metadata": {
        "colab": {
          "base_uri": "https://localhost:8080/",
          "height": 1000
        },
        "id": "hpBpCiXZv8Bb",
        "outputId": "2d3395d9-8490-45dd-a476-ee344430b7fb"
      },
      "execution_count": 58,
      "outputs": [
        {
          "output_type": "stream",
          "name": "stderr",
          "text": [
            "Process Process-63:\n",
            "Process Process-62:\n",
            "Traceback (most recent call last):\n",
            "  File \"/usr/lib/python3.10/multiprocessing/process.py\", line 314, in _bootstrap\n",
            "    self.run()\n",
            "Traceback (most recent call last):\n",
            "  File \"/usr/lib/python3.10/multiprocessing/process.py\", line 108, in run\n",
            "    self._target(*self._args, **self._kwargs)\n",
            "  File \"/usr/lib/python3.10/multiprocessing/process.py\", line 314, in _bootstrap\n",
            "    self.run()\n",
            "  File \"<ipython-input-58-a5c0713ec34a>\", line 7, in run_command\n",
            "    stdout, stderr = process.communicate()\n",
            "  File \"/usr/lib/python3.10/multiprocessing/process.py\", line 108, in run\n",
            "    self._target(*self._args, **self._kwargs)\n",
            "  File \"/usr/lib/python3.10/subprocess.py\", line 1154, in communicate\n",
            "    stdout, stderr = self._communicate(input, endtime, timeout)\n",
            "  File \"/usr/lib/python3.10/subprocess.py\", line 2021, in _communicate\n",
            "    ready = selector.select(timeout)\n",
            "  File \"<ipython-input-58-a5c0713ec34a>\", line 7, in run_command\n",
            "    stdout, stderr = process.communicate()\n",
            "  File \"/usr/lib/python3.10/selectors.py\", line 416, in select\n",
            "    fd_event_list = self._selector.poll(timeout)\n",
            "  File \"/usr/lib/python3.10/subprocess.py\", line 1154, in communicate\n",
            "    stdout, stderr = self._communicate(input, endtime, timeout)\n",
            "KeyboardInterrupt\n",
            "  File \"/usr/lib/python3.10/subprocess.py\", line 2021, in _communicate\n",
            "    ready = selector.select(timeout)\n",
            "  File \"/usr/lib/python3.10/selectors.py\", line 416, in select\n",
            "    fd_event_list = self._selector.poll(timeout)\n"
          ]
        },
        {
          "output_type": "error",
          "ename": "KeyboardInterrupt",
          "evalue": "",
          "traceback": [
            "\u001b[0;31m---------------------------------------------------------------------------\u001b[0m",
            "\u001b[0;31mKeyboardInterrupt\u001b[0m                         Traceback (most recent call last)",
            "\u001b[0;32m<ipython-input-58-a5c0713ec34a>\u001b[0m in \u001b[0;36m<cell line: 29>\u001b[0;34m()\u001b[0m\n\u001b[1;32m     28\u001b[0m \u001b[0;31m# Wait for all processes to finish\u001b[0m\u001b[0;34m\u001b[0m\u001b[0;34m\u001b[0m\u001b[0m\n\u001b[1;32m     29\u001b[0m \u001b[0;32mfor\u001b[0m \u001b[0mprocess\u001b[0m \u001b[0;32min\u001b[0m \u001b[0mprocesses\u001b[0m\u001b[0;34m:\u001b[0m\u001b[0;34m\u001b[0m\u001b[0;34m\u001b[0m\u001b[0m\n\u001b[0;32m---> 30\u001b[0;31m     \u001b[0mprocess\u001b[0m\u001b[0;34m.\u001b[0m\u001b[0mjoin\u001b[0m\u001b[0;34m(\u001b[0m\u001b[0;34m)\u001b[0m\u001b[0;34m\u001b[0m\u001b[0;34m\u001b[0m\u001b[0m\n\u001b[0m",
            "\u001b[0;32m/usr/lib/python3.10/multiprocessing/process.py\u001b[0m in \u001b[0;36mjoin\u001b[0;34m(self, timeout)\u001b[0m\n\u001b[1;32m    147\u001b[0m         \u001b[0;32massert\u001b[0m \u001b[0mself\u001b[0m\u001b[0;34m.\u001b[0m\u001b[0m_parent_pid\u001b[0m \u001b[0;34m==\u001b[0m \u001b[0mos\u001b[0m\u001b[0;34m.\u001b[0m\u001b[0mgetpid\u001b[0m\u001b[0;34m(\u001b[0m\u001b[0;34m)\u001b[0m\u001b[0;34m,\u001b[0m \u001b[0;34m'can only join a child process'\u001b[0m\u001b[0;34m\u001b[0m\u001b[0;34m\u001b[0m\u001b[0m\n\u001b[1;32m    148\u001b[0m         \u001b[0;32massert\u001b[0m \u001b[0mself\u001b[0m\u001b[0;34m.\u001b[0m\u001b[0m_popen\u001b[0m \u001b[0;32mis\u001b[0m \u001b[0;32mnot\u001b[0m \u001b[0;32mNone\u001b[0m\u001b[0;34m,\u001b[0m \u001b[0;34m'can only join a started process'\u001b[0m\u001b[0;34m\u001b[0m\u001b[0;34m\u001b[0m\u001b[0m\n\u001b[0;32m--> 149\u001b[0;31m         \u001b[0mres\u001b[0m \u001b[0;34m=\u001b[0m \u001b[0mself\u001b[0m\u001b[0;34m.\u001b[0m\u001b[0m_popen\u001b[0m\u001b[0;34m.\u001b[0m\u001b[0mwait\u001b[0m\u001b[0;34m(\u001b[0m\u001b[0mtimeout\u001b[0m\u001b[0;34m)\u001b[0m\u001b[0;34m\u001b[0m\u001b[0;34m\u001b[0m\u001b[0m\n\u001b[0m\u001b[1;32m    150\u001b[0m         \u001b[0;32mif\u001b[0m \u001b[0mres\u001b[0m \u001b[0;32mis\u001b[0m \u001b[0;32mnot\u001b[0m \u001b[0;32mNone\u001b[0m\u001b[0;34m:\u001b[0m\u001b[0;34m\u001b[0m\u001b[0;34m\u001b[0m\u001b[0m\n\u001b[1;32m    151\u001b[0m             \u001b[0m_children\u001b[0m\u001b[0;34m.\u001b[0m\u001b[0mdiscard\u001b[0m\u001b[0;34m(\u001b[0m\u001b[0mself\u001b[0m\u001b[0;34m)\u001b[0m\u001b[0;34m\u001b[0m\u001b[0;34m\u001b[0m\u001b[0m\n",
            "\u001b[0;32m/usr/lib/python3.10/multiprocessing/popen_fork.py\u001b[0m in \u001b[0;36mwait\u001b[0;34m(self, timeout)\u001b[0m\n\u001b[1;32m     41\u001b[0m                     \u001b[0;32mreturn\u001b[0m \u001b[0;32mNone\u001b[0m\u001b[0;34m\u001b[0m\u001b[0;34m\u001b[0m\u001b[0m\n\u001b[1;32m     42\u001b[0m             \u001b[0;31m# This shouldn't block if wait() returned successfully.\u001b[0m\u001b[0;34m\u001b[0m\u001b[0;34m\u001b[0m\u001b[0m\n\u001b[0;32m---> 43\u001b[0;31m             \u001b[0;32mreturn\u001b[0m \u001b[0mself\u001b[0m\u001b[0;34m.\u001b[0m\u001b[0mpoll\u001b[0m\u001b[0;34m(\u001b[0m\u001b[0mos\u001b[0m\u001b[0;34m.\u001b[0m\u001b[0mWNOHANG\u001b[0m \u001b[0;32mif\u001b[0m \u001b[0mtimeout\u001b[0m \u001b[0;34m==\u001b[0m \u001b[0;36m0.0\u001b[0m \u001b[0;32melse\u001b[0m \u001b[0;36m0\u001b[0m\u001b[0;34m)\u001b[0m\u001b[0;34m\u001b[0m\u001b[0;34m\u001b[0m\u001b[0m\n\u001b[0m\u001b[1;32m     44\u001b[0m         \u001b[0;32mreturn\u001b[0m \u001b[0mself\u001b[0m\u001b[0;34m.\u001b[0m\u001b[0mreturncode\u001b[0m\u001b[0;34m\u001b[0m\u001b[0;34m\u001b[0m\u001b[0m\n\u001b[1;32m     45\u001b[0m \u001b[0;34m\u001b[0m\u001b[0m\n",
            "\u001b[0;32m/usr/lib/python3.10/multiprocessing/popen_fork.py\u001b[0m in \u001b[0;36mpoll\u001b[0;34m(self, flag)\u001b[0m\n\u001b[1;32m     25\u001b[0m         \u001b[0;32mif\u001b[0m \u001b[0mself\u001b[0m\u001b[0;34m.\u001b[0m\u001b[0mreturncode\u001b[0m \u001b[0;32mis\u001b[0m \u001b[0;32mNone\u001b[0m\u001b[0;34m:\u001b[0m\u001b[0;34m\u001b[0m\u001b[0;34m\u001b[0m\u001b[0m\n\u001b[1;32m     26\u001b[0m             \u001b[0;32mtry\u001b[0m\u001b[0;34m:\u001b[0m\u001b[0;34m\u001b[0m\u001b[0;34m\u001b[0m\u001b[0m\n\u001b[0;32m---> 27\u001b[0;31m                 \u001b[0mpid\u001b[0m\u001b[0;34m,\u001b[0m \u001b[0msts\u001b[0m \u001b[0;34m=\u001b[0m \u001b[0mos\u001b[0m\u001b[0;34m.\u001b[0m\u001b[0mwaitpid\u001b[0m\u001b[0;34m(\u001b[0m\u001b[0mself\u001b[0m\u001b[0;34m.\u001b[0m\u001b[0mpid\u001b[0m\u001b[0;34m,\u001b[0m \u001b[0mflag\u001b[0m\u001b[0;34m)\u001b[0m\u001b[0;34m\u001b[0m\u001b[0;34m\u001b[0m\u001b[0m\n\u001b[0m\u001b[1;32m     28\u001b[0m             \u001b[0;32mexcept\u001b[0m \u001b[0mOSError\u001b[0m\u001b[0;34m:\u001b[0m\u001b[0;34m\u001b[0m\u001b[0;34m\u001b[0m\u001b[0m\n\u001b[1;32m     29\u001b[0m                 \u001b[0;31m# Child process not yet created. See #1731717\u001b[0m\u001b[0;34m\u001b[0m\u001b[0;34m\u001b[0m\u001b[0m\n",
            "\u001b[0;31mKeyboardInterrupt\u001b[0m: "
          ]
        },
        {
          "output_type": "stream",
          "name": "stderr",
          "text": [
            "KeyboardInterrupt\n",
            "Process Process-61:\n",
            "Traceback (most recent call last):\n",
            "  File \"/usr/lib/python3.10/multiprocessing/process.py\", line 314, in _bootstrap\n",
            "    self.run()\n",
            "  File \"/usr/lib/python3.10/multiprocessing/process.py\", line 108, in run\n",
            "    self._target(*self._args, **self._kwargs)\n",
            "  File \"<ipython-input-58-a5c0713ec34a>\", line 7, in run_command\n",
            "    stdout, stderr = process.communicate()\n",
            "  File \"/usr/lib/python3.10/subprocess.py\", line 1154, in communicate\n",
            "    stdout, stderr = self._communicate(input, endtime, timeout)\n",
            "  File \"/usr/lib/python3.10/subprocess.py\", line 2021, in _communicate\n",
            "    ready = selector.select(timeout)\n",
            "  File \"/usr/lib/python3.10/selectors.py\", line 416, in select\n",
            "    fd_event_list = self._selector.poll(timeout)\n",
            "KeyboardInterrupt\n"
          ]
        }
      ]
    }
  ]
}